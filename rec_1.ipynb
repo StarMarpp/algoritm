{
 "cells": [
  {
   "cell_type": "code",
   "execution_count": 6,
   "metadata": {},
   "outputs": [
    {
     "data": {
      "text/plain": [
       "6"
      ]
     },
     "execution_count": 6,
     "metadata": {},
     "output_type": "execute_result"
    }
   ],
   "source": [
    "def factorial(n):\n",
    "    if n == 0:\n",
    "        return 1\n",
    "    return n * factorial(n-1)\n",
    "\n",
    "factorial(3)\n",
    "\n",
    "#каждый раз когда функция встречает оператор возврата, она помещает его в стек. Стек - тип структур данных.\n",
    "#Мы удаляем элемент в том же порядке, в котором их добавили. \n",
    "\n",
    "#Основное преимущество рекурсии - ее изящество. \n",
    "#Недостаток рекурсивных алгоритмов в том, что обычно они занимают больше памяти, так как им нужно хранить \n",
    "#данные во внутреннем стеке Python\n",
    "#Рекурсивные функции по сравнению с итеративными может быть труднее считывать и тлаживать поскольку\n",
    "#отследить, что проиходит в рекурсивном алгоритме, сложнее."
   ]
  }
 ],
 "metadata": {
  "kernelspec": {
   "display_name": "Python 3",
   "language": "python",
   "name": "python3"
  },
  "language_info": {
   "codemirror_mode": {
    "name": "ipython",
    "version": 3
   },
   "file_extension": ".py",
   "mimetype": "text/x-python",
   "name": "python",
   "nbconvert_exporter": "python",
   "pygments_lexer": "ipython3",
   "version": "3.11.5"
  }
 },
 "nbformat": 4,
 "nbformat_minor": 2
}

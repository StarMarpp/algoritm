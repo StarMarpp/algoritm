{
 "cells": [
  {
   "cell_type": "markdown",
   "metadata": {},
   "source": []
  },
  {
   "cell_type": "markdown",
   "metadata": {},
   "source": [
    "Кратчайшие пути в ациклических ориентированных графах \n",
    "- это ориентированный граф без направленных циклов. То есть он состоит из вершин и ребер (также называемых дугами), причем каждое ребро направлено от одной вершины к другой, так что следование этим направлениям никогда не приведет к образованию замкнутого цикла."
   ]
  },
  {
   "cell_type": "code",
   "execution_count": 4,
   "metadata": {},
   "outputs": [],
   "source": [
    "def minDist(n, w, u):\n",
    "    dist = [float('inf')] * n\n",
    "    dist[u] = 0\n",
    "\n",
    "    p = topSort(w)\n",
    "\n",
    "    for i in range(n):\n",
    "        for j in range(n):\n",
    "            if w[i][j] > 0:\n",
    "                dist[j] = min(d[j], dist[p[i]] + w[p[i][j]])"
   ]
  },
  {
   "cell_type": "markdown",
   "metadata": {},
   "source": [
    "Кратчайшие пути в графах, с ребрами отрицатеьного веса. Алгоритм Беллмана-Форда предназначен для решения задач поиска кратчайшего пути для заданного ориентированного взвешенного графа алгоритм находит кратчайшие расстояния от выделенной вершины-источника до всех остальных вершин графа. Алгоритм Беллмана-Форда масштабируется хуже других алгоритмов решения указанной задачи, однако его\n",
    "отличительной особенностью является применимость к графам с произвольными, в том числе отрицательными, весами.\n",
    "\n",
    "Алгоритм Форда-Беллмана сможет бесконечно делать релаксации среди всех вершин этого цикла и\n",
    "вершин, достижимых из него. Следовательно, если не ограничивать число фаз числом , то\n",
    "алгоритм будет работать бесконечно, постоянно улучшая расстояния до этих вершин.\n",
    "Отсюда мы получаем критерий наличия достижимого цикла отрицательного веса: если после\n",
    "фазы мы выполним ещё одну фазу, и на ней произойдёт хотя бы одна релаксация, то граф\n",
    "содержит цикл отрицательного веса, достижимый из ; в противном случае, такого цикла нет."
   ]
  },
  {
   "cell_type": "code",
   "execution_count": 6,
   "metadata": {},
   "outputs": [],
   "source": [
    "class Graph:\n",
    "\n",
    "    def __init__(self,vertices):\n",
    "        self.V = vertices\n",
    "        self.graph = []\n",
    "\n",
    "    def addEdge(self, u, v, w):\n",
    "        self.graph.append([u, v, w])\n",
    "    \n",
    "    def printArr(self, dist):\n",
    "        print('Расстояние до стартовой')\n",
    "        for i in range(self.V):\n",
    "            print(f\"{i}\\t\\t{dist[i]}\")\n",
    "\n",
    "    def BellmanFord(self, src):\n",
    "        dist = [float(\"Inf\")] * self.V\n",
    "        dist[src] = 0 \n",
    "        \n",
    "        for _ in range(self. V - 1):\n",
    "            for u, v, w in self.graph:\n",
    "                if dist[u] != float('Inf') \\\n",
    "                and dist [u] + w < dist[v]:\n",
    "                    dist[v] = dist[u] + w\n",
    "        \n",
    "        self.printArr(dist)"
   ]
  },
  {
   "cell_type": "markdown",
   "metadata": {},
   "source": [
    "Src: Это расшифровывается как исходный код и является необработанным кодом до минимизации, конкатенации или какой-либо другой компиляции, которая использовалась для чтения или редактирования кода.\n",
    "Inf-это бесконечность, это число \"больше, чем все остальные числа\"."
   ]
  },
  {
   "cell_type": "markdown",
   "metadata": {},
   "source": [
    "Проверка наличия цикла отрицательного веса"
   ]
  },
  {
   "cell_type": "code",
   "execution_count": 7,
   "metadata": {},
   "outputs": [],
   "source": [
    "def BellmanFord(self, src):\n",
    "    dist = [float('Inf')] * self.V\n",
    "    dist[src] = 0\n",
    "\n",
    "    for _ in range(self.V - 1): #достаточно, чтобы найти все расстояния\n",
    "        for u, v, w in self.graph:\n",
    "            if dist[u] != float('Inf') \\\n",
    "            and dist[u] + w < dist[v]:\n",
    "                dist[v] = dist[u] + w\n",
    "    \n",
    "    for u, v, w in self.graph:\n",
    "        if dist[u] != float('Inf') \\\n",
    "        and dist[u] + w < dist[v]:\n",
    "            print('Граф содержит отрицательный цикл')\n",
    "\n",
    "    self.printArr(dist)"
   ]
  },
  {
   "cell_type": "code",
   "execution_count": 19,
   "metadata": {},
   "outputs": [
    {
     "name": "stdout",
     "output_type": "stream",
     "text": [
      "{1: [(2, 0.2), (3, 0.5)], 2: [(1, 0.2), (3, 0.2)], 3: [(1, 0.5), (2, 0.2)]}\n",
      "[0, 0.2, 0.36]\n"
     ]
    },
    {
     "data": {
      "text/plain": [
       "0.36"
      ]
     },
     "execution_count": 19,
     "metadata": {},
     "output_type": "execute_result"
    }
   ],
   "source": [
    "#вероятность a+b - a*b\n",
    "#задача_2 нахождение_ \n",
    "def t2(n, m, s, e, edges):\n",
    "    adjList = {i: [] for i in range(1, n+1)}\n",
    "    for si, ei, li in edges:\n",
    "        adjList[si].append((ei, li / 100))\n",
    "        adjList[ei].append((si, li / 100))\n",
    "    print(adjList)\n",
    "\n",
    "    dist = [float('inf')] * n\n",
    "    dist[s-1] = 0\n",
    "    used = [0] * n \n",
    "\n",
    "    while True:\n",
    "        min_dist = float('inf')\n",
    "        min_ind = None\n",
    "        for i in range(n):\n",
    "            if dist[i] < min_dist and not used[i]:\n",
    "                min_dist = dist[i]\n",
    "                min_ind = i + 1\n",
    "        if min_dist == float('inf'):\n",
    "            break \n",
    "        used[min_ind -1] = 1\n",
    "        for u, p in adjList[min_ind]:\n",
    "            if not used[u-1] and dist[u-1] > p + dist[min_ind - 1] - p * dist[min_ind -1]:\n",
    "                dist[u-1] = p + dist[min_ind-1] - p * dist[min_ind-1]\n",
    "    print(dist)\n",
    "    return dist[e-1]\n",
    "\n",
    "N = 3\n",
    "M = 3\n",
    "S = 1\n",
    "E = 3\n",
    "edges = [[1, 2, 20],\n",
    "         [1, 3, 50],\n",
    "         [2, 3, 20]]\n",
    "t2(N, M, S, E, edges)"
   ]
  },
  {
   "cell_type": "code",
   "execution_count": null,
   "metadata": {},
   "outputs": [],
   "source": [
    "def t1(n, m, edges): #задача 1 по алгоритму Флойда находим \n",
    "    dist = [[float('inf')] * n for _ in range(n)]\n",
    "    for i in range(n):\n",
    "        dist[i][i] = 0 #\n",
    "    \n",
    "    for s, e, l in edges:\n",
    "        dist[s-1][e-1] = 1\n",
    "        dist[e-1][s-1] = 1\n",
    "\n",
    "    for k in range(n): #сам цикл по которому перебираются вершины\n",
    "        for i in range(n):\n",
    "            for j in range(n):\n",
    "                dist[i][j] = min(dist[i][j], dist[i][k] + dist[k][j])\n",
    "#находим короткое максимальное расстояние \n",
    "    ans = 0 \n",
    "    for i in range(n):\n",
    "        for j in range(n):\n",
    "            if dist[i][j] < float('inf'): #берем бесконечность, но не больше, чем ноль\n",
    "                ans = max(ans, dist[i][j])\n",
    "        print(*dist, sep='\\n')\n",
    "\n",
    "    return ans \n",
    "\n",
    "t1(3, 2, [[1, 2, 1],\n",
    "          [2,3,2]]), t1(3, 0, [])"
   ]
  },
  {
   "cell_type": "code",
   "execution_count": 16,
   "metadata": {},
   "outputs": [
    {
     "ename": "NameError",
     "evalue": "name 'V' is not defined",
     "output_type": "error",
     "traceback": [
      "\u001b[1;31m---------------------------------------------------------------------------\u001b[0m",
      "\u001b[1;31mNameError\u001b[0m                                 Traceback (most recent call last)",
      "\u001b[1;32mUntitled-1.ipynb Ячейка 10\u001b[0m line \u001b[0;36m1\n\u001b[1;32m----> <a href='vscode-notebook-cell:Untitled-1.ipynb?jupyter-notebook#X13sdW50aXRsZWQ%3D?line=0'>1</a>\u001b[0m adjList \u001b[39m=\u001b[39m [[] \u001b[39mfor\u001b[39;00m _ \u001b[39min\u001b[39;00m \u001b[39mrange\u001b[39m(V)]\n\u001b[0;32m      <a href='vscode-notebook-cell:Untitled-1.ipynb?jupyter-notebook#X13sdW50aXRsZWQ%3D?line=1'>2</a>\u001b[0m \u001b[39mfor\u001b[39;00m i, j \u001b[39min\u001b[39;00m edges:\n\u001b[0;32m      <a href='vscode-notebook-cell:Untitled-1.ipynb?jupyter-notebook#X13sdW50aXRsZWQ%3D?line=2'>3</a>\u001b[0m     adjList[i]\u001b[39m.\u001b[39mappend(j)\n",
      "\u001b[1;31mNameError\u001b[0m: name 'V' is not defined"
     ]
    }
   ],
   "source": [
    "\n",
    "adjList = [[] for _ in range(V)]\n",
    "for i, j in edges:\n",
    "    adjList[i].append(j)\n",
    "    adjList[j].append(i)\n",
    "\n",
    "return adjList"
   ]
  },
  {
   "cell_type": "code",
   "execution_count": 14,
   "metadata": {},
   "outputs": [
    {
     "name": "stdout",
     "output_type": "stream",
     "text": [
      "[1, 1, 1, 0]\n",
      "[1, 1, 1, 0]\n",
      "[1, 1, 1, 0]\n",
      "[1, 1, 1, 1]\n"
     ]
    }
   ],
   "source": [
    "def t1(n, edges):\n",
    "    dist = [[float('inf')] * n for _ in range(n)]\n",
    "    for i in range(n):\n",
    "        dist[i][i] = 0\n",
    "\n",
    "    for i in range(n):\n",
    "        for j in range(n):\n",
    "            if edges[i][j] == 1:\n",
    "                dist[i][j] = 1 \n",
    "\n",
    "    for k in range(n): #перебираем вершины \n",
    "        for i in range(n):\n",
    "            for j in range(n):\n",
    "                dist[i][j] = min(dist[i][j], dist[i][k] + dist[k][j])\n",
    "\n",
    "     \n",
    "    for i in range(n):\n",
    "        for j in range(n):\n",
    "            if dist[i][j] == float('inf'):\n",
    "                dist[i][j] = 0\n",
    "            else:\n",
    "                dist[i][j] = 1\n",
    "\n",
    "    return dist \n",
    "\n",
    "N = 4\n",
    "edges = [[1, 1, 0, 0],\n",
    "         [0, 1, 1, 0],\n",
    "         [1, 0, 1, 0],\n",
    "         [0, 0, 1, 1]]\n",
    "\n",
    "\n",
    "print(*t1(N, edges), sep='\\n')"
   ]
  },
  {
   "cell_type": "code",
   "execution_count": 5,
   "metadata": {},
   "outputs": [],
   "source": [
    "def DFS(V, adj):\n",
    "    visited = [0] * V\n",
    "    ans = []\n",
    "\n",
    "    def dfs(v):\n",
    "        visited[v] = 1\n",
    "        ans.append(v)\n",
    "        for u in adj[v]:\n",
    "            if not visited[u]:\n",
    "                dfs(u)\n",
    "    \n",
    "    dfs(0)\n",
    "    return ans\n",
    "    \n",
    "    DFS(V, adj)\n",
    "\n"
   ]
  },
  {
   "cell_type": "code",
   "execution_count": 8,
   "metadata": {},
   "outputs": [],
   "source": [
    "\n",
    "\n",
    "def BFS(self, V):\n",
    "    visited = [0] * (max(self.graph) + 1)\n",
    "    queue = [] #очередь \n",
    "    queue.append(V)\n",
    "    visited[V] = True \n",
    "\n",
    "    while queue:\n",
    "        V = queue.pop(0)\n",
    "        print(V, end = \" \")\n",
    "\n",
    "        for i in self.graph[V]:\n",
    "            if visited[i] == False:\n",
    "                queue.append(i)\n",
    "                visited[i] = True\n",
    "\n",
    "\n",
    "\n"
   ]
  },
  {
   "cell_type": "code",
   "execution_count": 2,
   "metadata": {},
   "outputs": [
    {
     "name": "stdout",
     "output_type": "stream",
     "text": [
      "[1, 1, 1, 1, 0]\n",
      "[0, 1, 0, 0, 0]\n",
      "[0, 0, 1, 0, 1]\n",
      "[0, 0, 0, 1, 0]\n",
      "[0, 0, 0, 0, 1]\n"
     ]
    }
   ],
   "source": [
    "V = 5 \n",
    "adj  = [[1, 2, 3], [], [4], [], []]\n",
    "\n",
    "adjM = [[0] * V for _ in range(V)]\n",
    "for i in range (V):\n",
    "    adjM[i][i] = 1\n",
    "    for j in adj[i]:\n",
    "        adjM[i][j] = 1\n",
    "\n",
    "print(*adjM, sep='\\n')\n",
    "\n"
   ]
  },
  {
   "cell_type": "code",
   "execution_count": 1,
   "metadata": {},
   "outputs": [
    {
     "name": "stdout",
     "output_type": "stream",
     "text": [
      "[(3, 3, 4), (13, 1, 2), (14, 1, 5), (19, 4, 6), (17, 1, 4)]\n"
     ]
    }
   ],
   "source": [
    "#-------------------------------------------------\n",
    "# Алгоритм Краскала поиска минимального остова графа\n",
    "#-------------------------------------------------\n",
    "\n",
    "# список ребер графа (длина, вершина 1, вершина 2)\n",
    "R = [(13, 1, 2), (18, 1, 3), (17, 1, 4), (14, 1, 5), (22, 1, 6),\n",
    "     (26, 2, 3), (22, 2, 5), (3, 3, 4), (19, 4, 6)]\n",
    "\n",
    "Rs = sorted(R, key=lambda x: x[0])\n",
    "U = set()   # список соединенных вершин\n",
    "D = {}      # словарь списка изолированных групп вершин\n",
    "T = []      # список ребер остова\n",
    "\n",
    "for r in Rs:\n",
    "    if r[1] not in U or r[2] not in U:  # проверка для исключения циклов в остове\n",
    "        if r[1] not in U and r[2] not in U: # если обе вершины не соединены, то\n",
    "            D[r[1]] = [r[1], r[2]]          # формируем в словаре ключ с номерами вершин\n",
    "            D[r[2]] = D[r[1]]               # и связываем их с одним и тем же списком вершин\n",
    "        else:                           # иначе\n",
    "            if not D.get(r[1]):             # если в словаре нет первой вершины, то\n",
    "                D[r[2]].append(r[1])        # добавляем в список первую вершину\n",
    "                D[r[1]] = D[r[2]]           # и добавляем ключ с номером первой вершины\n",
    "            else:\n",
    "                D[r[1]].append(r[2])        # иначе, все то же самое делаем со второй вершиной\n",
    "                D[r[2]] = D[r[1]]\n",
    "\n",
    "        T.append(r)             # добавляем ребро в остов\n",
    "        U.add(r[1])             # добавляем вершины в множество U\n",
    "        U.add(r[2])\n",
    "\n",
    "for r in Rs:    # проходим по ребрам второй раз и объединяем разрозненные группы вершин\n",
    "    if r[2] not in D[r[1]]:     # если вершины принадлежат разным группам, то объединяем\n",
    "        T.append(r)             # добавляем ребро в остов\n",
    "        gr1 = D[r[1]]\n",
    "        D[r[1]] += D[r[2]]      # объединем списки двух групп вершин\n",
    "        D[r[2]] += gr1\n",
    "\n",
    "print(T)"
   ]
  }
 ],
 "metadata": {
  "kernelspec": {
   "display_name": "Python 3",
   "language": "python",
   "name": "python3"
  },
  "language_info": {
   "codemirror_mode": {
    "name": "ipython",
    "version": 3
   },
   "file_extension": ".py",
   "mimetype": "text/x-python",
   "name": "python",
   "nbconvert_exporter": "python",
   "pygments_lexer": "ipython3",
   "version": "3.11.5"
  }
 },
 "nbformat": 4,
 "nbformat_minor": 2
}

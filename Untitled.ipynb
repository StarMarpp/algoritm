{
 "cells": [
  {
   "cell_type": "code",
   "execution_count": null,
   "id": "0133e81f-352a-4e87-bfd9-bcc26685535d",
   "metadata": {},
   "outputs": [],
   "source": [
    "from collections import deque\n",
    "\n",
    "def t3(n, k_pos, t_pos):\n",
    "    # 1 т является вершиноой inf - бесконечность \n",
    "    dist = [[float('inf')] * n for _ in range(n)]\n",
    "    dist[k_pos[1] - 1][k_pos[0] - 1] = 0\n",
    "    \n",
    "    #2\n",
    "    q = deque([k_pos])\n",
    "    \n",
    "    #3\n",
    "    while q:\n",
    "        #3.1\n",
    "        vx, vy = q.popleft()\n",
    "        #(v,u)∈E\n",
    "        pos = [(vx-1, vy-2), (vx+1, vy-2),\n",
    "               (vx-2, vy-1), (vx+2, vy-1),\n",
    "               (vx-2, vy+1), (vx+2, vy+1),\n",
    "               (vx-1, vy+2), (vx+1, vy+2)]\n",
    "        #3.2 relaxing\n",
    "        for ux, uy in pos:\n",
    "            if 0 < ux <= n and 0 < uy <= n \\\n",
    "            and dist[vy-1][vx-1] + 1 < dist[uy-1][ux-1]:\n",
    "                dist[uy-1][ux-1] = dist[vy-1][vx-1] + 1\n",
    "                q.append((ux, uy))\n",
    "        \n",
    "    return dist[t_pos[1]][t_pos[0]]\n",
    "\n",
    "\n",
    "t3(6, (4, 5), (1, 1))\n"
   ]
  }
 ],
 "metadata": {
  "kernelspec": {
   "display_name": "Python 3 (ipykernel)",
   "language": "python",
   "name": "python3"
  },
  "language_info": {
   "codemirror_mode": {
    "name": "ipython",
    "version": 3
   },
   "file_extension": ".py",
   "mimetype": "text/x-python",
   "name": "python",
   "nbconvert_exporter": "python",
   "pygments_lexer": "ipython3",
   "version": "3.11.5"
  }
 },
 "nbformat": 4,
 "nbformat_minor": 5
}
